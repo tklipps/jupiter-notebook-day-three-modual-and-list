{
 "cells": [
  {
   "cell_type": "code",
   "execution_count": null,
   "id": "72c19107",
   "metadata": {},
   "outputs": [],
   "source": [
    "#Make a Function that takes a string as input and returns the adjusted string.\n",
    "#Given a string, after every y, add an ! and after every s, add a period and make every w and g capital.\n",
    "s=\"Hey welcome to doing whiteboard problems get prepared to figure out a problem on the fly\"\n",
    "#output= Hey! Welcome to doinG Whiteboard problems. Get prepared to fiGure out a problem on the fly!\n",
    "\n",
    "#add ! after y\n",
    "#add . after s\n",
    "#w and g capital"
   ]
  },
  {
   "cell_type": "code",
   "execution_count": 11,
   "id": "c2a3bca3",
   "metadata": {
    "scrolled": true
   },
   "outputs": [
    {
     "name": "stdout",
     "output_type": "stream",
     "text": [
      "H\n",
      "e\n",
      "y\n",
      "!\n",
      " \n",
      "w\n",
      "e\n",
      "l\n",
      "c\n",
      "o\n",
      "m\n",
      "e\n",
      " \n",
      "t\n",
      "o\n",
      " \n",
      "d\n",
      "o\n",
      "i\n",
      "n\n",
      "g\n",
      " \n",
      "w\n",
      "h\n",
      "i\n",
      "t\n",
      "e\n",
      "b\n",
      "o\n",
      "a\n",
      "r\n",
      "d\n",
      " \n",
      "p\n",
      "r\n",
      "o\n",
      "b\n",
      "l\n",
      "e\n",
      "m\n",
      "s\n",
      " \n",
      "g\n",
      "e\n",
      "t\n",
      " \n",
      "p\n",
      "r\n",
      "e\n",
      "p\n",
      "a\n",
      "r\n",
      "e\n",
      "d\n",
      " \n",
      "t\n",
      "o\n",
      " \n",
      "f\n",
      "i\n",
      "g\n",
      "u\n",
      "r\n",
      "e\n",
      " \n",
      "o\n",
      "u\n",
      "t\n",
      " \n",
      "a\n",
      " \n",
      "p\n",
      "r\n",
      "o\n",
      "b\n",
      "l\n",
      "e\n",
      "m\n",
      " \n",
      "o\n",
      "n\n",
      " \n",
      "t\n",
      "h\n",
      "e\n",
      " \n",
      "f\n",
      "l\n",
      "y\n",
      "!\n"
     ]
    }
   ],
   "source": [
    "s=\"Hey welcome to doing whiteboard problems get prepared to figure out a problem on the fly\"\n",
    "\n",
    "def string_mod(old_string):\n",
    "    new_sentence = \" \"\n",
    "    for letter in old_string:\n",
    "        print(letter)\n",
    "        if letter == \"y\":\n",
    "            new_sentence += \"y!\"\n",
    "    for letter in old_string:b\n",
    "        if \n",
    "        \n",
    "\n",
    "string_mod(s)"
   ]
  },
  {
   "cell_type": "code",
   "execution_count": 15,
   "id": "6d0bcb54",
   "metadata": {},
   "outputs": [
    {
     "data": {
      "text/plain": [
       "'Hey! Welcome to doinG Whiteboard problems. Get prepared to fiGure out a problem on the fly!'"
      ]
     },
     "execution_count": 15,
     "metadata": {},
     "output_type": "execute_result"
    }
   ],
   "source": [
    "s=\"Hey welcome to doing whiteboard problems get prepared to figure out a problem on the fly\"\n",
    "\n",
    "def fix_string(wrong_sentence):\n",
    "    new_sentence=\"\"\n",
    "    for letter in s:\n",
    "        if letter.lower()=='y':\n",
    "            new_sentence+=letter+\"!\"\n",
    "        elif letter.lower()=='s':\n",
    "            new_sentence+=letter+\".\"\n",
    "        elif letter.lower()=='w' or letter.lower()=='g':\n",
    "            new_sentence+=letter.upper()\n",
    "        else:\n",
    "            new_sentence+=letter\n",
    "    return new_sentence\n",
    "\n",
    "fix_string(s)"
   ]
  },
  {
   "cell_type": "code",
   "execution_count": 19,
   "id": "81a8c7b1",
   "metadata": {},
   "outputs": [
    {
     "name": "stdout",
     "output_type": "stream",
     "text": [
      "Hey! welcome to doing whiteboard problems. get prepared to figure out a problem on the fly!\n"
     ]
    }
   ],
   "source": [
    "s=\"Hey welcome to doing whiteboard problems get prepared to figure out a problem on the fly\"\n",
    "\n",
    "def fix_string_replace(s):\n",
    "    return s.replace('y','y!').replace('s',('s.'))\n",
    "\n",
    "print(fix_string_replace(s))"
   ]
  }
 ],
 "metadata": {
  "kernelspec": {
   "display_name": "Python 3",
   "language": "python",
   "name": "python3"
  },
  "language_info": {
   "codemirror_mode": {
    "name": "ipython",
    "version": 3
   },
   "file_extension": ".py",
   "mimetype": "text/x-python",
   "name": "python",
   "nbconvert_exporter": "python",
   "pygments_lexer": "ipython3",
   "version": "3.8.8"
  }
 },
 "nbformat": 4,
 "nbformat_minor": 5
}
